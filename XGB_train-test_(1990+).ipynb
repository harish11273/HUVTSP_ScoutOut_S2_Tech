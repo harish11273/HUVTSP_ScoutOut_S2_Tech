{
 "cells": [
  {
   "cell_type": "markdown",
   "id": "b0d0374c",
   "metadata": {},
   "source": [
    "Importing Pandas, NumPy, XGBoost, and Clean Dataset"
   ]
  },
  {
   "cell_type": "code",
   "execution_count": 2,
   "id": "5d43a033",
   "metadata": {},
   "outputs": [],
   "source": [
    "import pandas as pd\n",
    "import numpy as np\n",
    "import xgboost as xgb\n",
    "\n",
    "df = pd.read_csv('C:/Users/hj920/ScoutOut Code!/Dataset/cleaned_realtor-data_7-31_recent.csv', parse_dates=['prev_sold_date'])"
   ]
  },
  {
   "cell_type": "markdown",
   "id": "54af9996",
   "metadata": {},
   "source": [
    "Feature Preparation"
   ]
  },
  {
   "cell_type": "code",
   "execution_count": 3,
   "id": "23019b6d",
   "metadata": {},
   "outputs": [],
   "source": [
    "# Feature engineering\n",
    "df['year'] = df['prev_sold_date'].dt.year\n",
    "df['month'] = df['prev_sold_date'].dt.month\n",
    "\n",
    "# Encode zip_code as categorical\n",
    "df['zip_code'] = df['zip_code'].astype('category')\n",
    "\n",
    "# Prepare features and target\n",
    "features = ['bed', 'bath', 'acre_lot', 'zip_code', 'house_size', 'year', 'month']\n",
    "X = df[features]\n",
    "y = df['price']"
   ]
  },
  {
   "cell_type": "markdown",
   "id": "9201ec2f",
   "metadata": {},
   "source": [
    "Train/Test"
   ]
  },
  {
   "cell_type": "code",
   "execution_count": 4,
   "id": "1e7995fe",
   "metadata": {},
   "outputs": [
    {
     "name": "stdout",
     "output_type": "stream",
     "text": [
      "R2: 0.6070796489324098\n",
      "MAE: 152946.06521470388\n",
      "MSE: 405808777675.7109\n"
     ]
    }
   ],
   "source": [
    "# Train/test split\n",
    "from sklearn.model_selection import train_test_split\n",
    "X_train, X_test, y_train, y_test = train_test_split(X, y, test_size=0.2, random_state=42)\n",
    "\n",
    "# Train LightGBM\n",
    "model = xgb.XGBRegressor(enable_categorical=True)\n",
    "model.fit(X_train, y_train)\n",
    "\n",
    "# Predict and evaluate\n",
    "from sklearn.metrics import r2_score, mean_absolute_error, mean_squared_error\n",
    "y_pred = model.predict(X_test)\n",
    "print('R2:', r2_score(y_test, y_pred))\n",
    "print('MAE:', mean_absolute_error(y_test, y_pred))\n",
    "print('MSE:', mean_squared_error(y_test, y_pred))"
   ]
  },
  {
   "cell_type": "markdown",
   "id": "6f572dd4",
   "metadata": {},
   "source": [
    "Importing JobLib and Exporting model as Pickle File"
   ]
  },
  {
   "cell_type": "code",
   "execution_count": 5,
   "id": "5255ae60",
   "metadata": {},
   "outputs": [
    {
     "data": {
      "text/plain": [
       "['xgb_model.pkl']"
      ]
     },
     "execution_count": 5,
     "metadata": {},
     "output_type": "execute_result"
    }
   ],
   "source": [
    "import joblib as jl\n",
    "jl.dump(model, 'xgb_model.pkl')"
   ]
  }
 ],
 "metadata": {
  "kernelspec": {
   "display_name": "Python 3",
   "language": "python",
   "name": "python3"
  },
  "language_info": {
   "codemirror_mode": {
    "name": "ipython",
    "version": 3
   },
   "file_extension": ".py",
   "mimetype": "text/x-python",
   "name": "python",
   "nbconvert_exporter": "python",
   "pygments_lexer": "ipython3",
   "version": "3.13.5"
  }
 },
 "nbformat": 4,
 "nbformat_minor": 5
}
